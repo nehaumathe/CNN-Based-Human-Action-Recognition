{
 "cells": [
  {
   "cell_type": "markdown",
   "metadata": {
    "id": "MSaAf_CrxAJy"
   },
   "source": [
    "# **CNN & VGG-based Human Action Recognition Project**"
   ]
  },
  {
   "cell_type": "markdown",
   "metadata": {
    "id": "dRUP9POvyp1l"
   },
   "source": [
    "# **download** **packages**"
   ]
  },
  {
   "cell_type": "code",
   "execution_count": 1,
   "metadata": {
    "colab": {
     "base_uri": "https://localhost:8080/"
    },
    "id": "h2xm00Gty1o_",
    "outputId": "91a229d1-cfda-4399-ef1d-ec53e9834529"
   },
   "outputs": [
    {
     "name": "stdout",
     "output_type": "stream",
     "text": [
      "Mounted at /content/drive\n"
     ]
    }
   ],
   "source": [
    "from google.colab import drive\n",
    "drive.mount('/content/drive')"
   ]
  },
  {
   "cell_type": "code",
   "execution_count": 2,
   "metadata": {
    "colab": {
     "base_uri": "https://localhost:8080/"
    },
    "id": "lEwsRWx5zWwR",
    "outputId": "47a60720-88db-4346-8d7b-1c3b7a31e39c"
   },
   "outputs": [
    {
     "name": "stdout",
     "output_type": "stream",
     "text": [
      "Requirement already satisfied: plotly in /usr/local/lib/python3.10/dist-packages (5.15.0)\n",
      "Requirement already satisfied: tenacity>=6.2.0 in /usr/local/lib/python3.10/dist-packages (from plotly) (8.2.3)\n",
      "Requirement already satisfied: packaging in /usr/local/lib/python3.10/dist-packages (from plotly) (23.2)\n"
     ]
    }
   ],
   "source": [
    "!pip install plotly"
   ]
  },
  {
   "cell_type": "markdown",
   "metadata": {
    "id": "IfjNwYiqzfYR"
   },
   "source": [
    "# **Import** **the** **libraries**\n"
   ]
  },
  {
   "cell_type": "code",
   "execution_count": 3,
   "metadata": {
    "id": "J85ZYojWzlZg"
   },
   "outputs": [],
   "source": [
    "import numpy as np\n",
    "import pandas as pd\n",
    "\n",
    "import io\n",
    "import os\n",
    "import tensorflow as tf\n",
    "\n",
    "from tensorflow.keras.preprocessing.image import ImageDataGenerator\n",
    "from tensorflow.keras.models import Sequential\n",
    "from tensorflow.keras.layers import Conv2D, Flatten, BatchNormalization, Dropout, Dense, MaxPool2D\n",
    "from tensorflow.keras.callbacks import ReduceLROnPlateau, EarlyStopping\n",
    "\n",
    "from sklearn.model_selection import train_test_split\n",
    "from sklearn.metrics import classification_report, confusion_matrix"
   ]
  },
  {
   "cell_type": "markdown",
   "metadata": {
    "id": "TKDTIPXYz6Ye"
   },
   "source": [
    "# **read the data**"
   ]
  },
  {
   "cell_type": "code",
   "execution_count": 2,
   "metadata": {
    "id": "BH2qkvNgDRb7"
   },
   "outputs": [],
   "source": [
    "dataset_path = '/content/drive/My Drive/Human Action Recognition'"
   ]
  },
  {
   "cell_type": "markdown",
   "metadata": {
    "id": "lKdEMC8a8oGb"
   },
   "source": [
    "## **prepare train test splits**"
   ]
  },
  {
   "cell_type": "code",
   "execution_count": 3,
   "metadata": {
    "id": "OEE_GZ77DYrK"
   },
   "outputs": [],
   "source": [
    "import pandas as pd\n",
    "import os\n",
    "from sklearn.model_selection import train_test_split\n",
    "\n",
    "# Paths to your data and CSV files\n",
    "dataset_path = '/content/drive/My Drive/HAR/Human Action Recognition'\n",
    "train_path = os.path.join(dataset_path, 'train')\n",
    "test_path = os.path.join(dataset_path, 'test')\n",
    "train_labels_path = os.path.join(dataset_path, 'Training_set.csv')\n",
    "test_labels_path = os.path.join(dataset_path, 'Testing_set.csv')  # Assuming you have a separate CSV for test labels\n",
    "\n",
    "# Load the labels from the CSV files into DataFrames\n",
    "train_labels_df = pd.read_csv(train_labels_path)\n",
    "test_labels_df = pd.read_csv(test_labels_path)  # If you have test labels\n",
    "\n",
    "# Split the data into training and validation sets\n",
    "train_df, valid_df = train_test_split(train_labels_df, test_size=0.3, random_state=42, stratify=train_labels_df['label'])"
   ]
  },
  {
   "cell_type": "markdown",
   "metadata": {
    "id": "6Es9QCNtDhiu"
   },
   "source": [
    "# **Preparing the data**"
   ]
  },
  {
   "cell_type": "code",
   "execution_count": null,
   "metadata": {
    "colab": {
     "base_uri": "https://localhost:8080/"
    },
    "id": "WjrsdngJDiPD",
    "outputId": "8971ce87-fef0-465b-d5ea-2fc42b089813"
   },
   "outputs": [
    {
     "name": "stdout",
     "output_type": "stream",
     "text": [
      "Found 8820 validated image filenames belonging to 15 classes.\n",
      "Found 3780 validated image filenames belonging to 15 classes.\n",
      "Found 5400 validated image filenames.\n"
     ]
    }
   ],
   "source": [
    "from tensorflow.keras.preprocessing.image import ImageDataGenerator\n",
    "\n",
    "# Define ImageDataGenerators with normalization\n",
    "train_datagen = ImageDataGenerator(\n",
    "    rescale=1./255,\n",
    "    rotation_range=20,\n",
    "    width_shift_range=0.2,\n",
    "    height_shift_range=0.2,\n",
    "    shear_range=0.2,\n",
    "    zoom_range=0.2,\n",
    "    horizontal_flip=True,\n",
    "    fill_mode='nearest'\n",
    ")\n",
    "\n",
    "valid_datagen = ImageDataGenerator(rescale=1./255)\n",
    "\n",
    "# Generators for training and validation data using the dataframes\n",
    "train_generator = train_datagen.flow_from_dataframe(\n",
    "    dataframe=train_df,\n",
    "    directory=train_path,\n",
    "    x_col='filename',\n",
    "    y_col='label',\n",
    "    target_size=(64, 64),\n",
    "    batch_size=32,\n",
    "    class_mode='categorical'\n",
    ")\n",
    "\n",
    "validation_generator = valid_datagen.flow_from_dataframe(\n",
    "    dataframe=valid_df,\n",
    "    directory=train_path,\n",
    "    x_col='filename',\n",
    "    y_col='label',\n",
    "    target_size=(64, 64),\n",
    "    batch_size=32,\n",
    "    class_mode='categorical'\n",
    ")\n",
    "\n",
    "# ImageDataGenerator for test data, rescaling only\n",
    "test_datagen = ImageDataGenerator(rescale=1./255)\n",
    "\n",
    "# Generator for test data using the dataframe\n",
    "test_generator = test_datagen.flow_from_dataframe(\n",
    "    dataframe=test_labels_df,  # Dataframe containing test filenames only\n",
    "    directory=test_path,\n",
    "    x_col='filename',\n",
    "    target_size=(64, 64),\n",
    "    batch_size=32,\n",
    "    class_mode=None,  # Since we don't have labels\n",
    "    shuffle=False  # Keep data in same order as dataframe for evaluation\n",
    ")"
   ]
  },
  {
   "cell_type": "markdown",
   "metadata": {
    "id": "Yrn2Ovyq2JBn"
   },
   "source": [
    "# **Data Visualization**"
   ]
  },
  {
   "cell_type": "code",
   "execution_count": 4,
   "metadata": {
    "colab": {
     "base_uri": "https://localhost:8080/"
    },
    "id": "R9I0163yqkhK",
    "outputId": "631b75a1-f359-42bc-da62-38a6899cedfc"
   },
   "outputs": [
    {
     "name": "stdout",
     "output_type": "stream",
     "text": [
      "              filename     label\n",
      "652      Image_653.jpg   dancing\n",
      "11396  Image_11397.jpg  drinking\n",
      "11773  Image_11774.jpg  clapping\n",
      "7259    Image_7260.jpg    eating\n",
      "4818    Image_4819.jpg   sitting\n"
     ]
    }
   ],
   "source": [
    "# View the first few rows of the training dataframe\n",
    "print(train_df.head())"
   ]
  },
  {
   "cell_type": "code",
   "execution_count": 5,
   "metadata": {
    "colab": {
     "base_uri": "https://localhost:8080/"
    },
    "id": "tnV2H_itqm-t",
    "outputId": "0640ad2f-f17e-42fa-c20f-c2b4a34ca6c4"
   },
   "outputs": [
    {
     "name": "stdout",
     "output_type": "stream",
     "text": [
      "            filename               label\n",
      "963    Image_964.jpg  listening_to_music\n",
      "1733  Image_1734.jpg  listening_to_music\n",
      "4676  Image_4677.jpg            clapping\n",
      "9816  Image_9817.jpg             hugging\n",
      "2706  Image_2707.jpg             running\n"
     ]
    }
   ],
   "source": [
    "# View the first few rows of the validation dataframe\n",
    "print(valid_df.head())"
   ]
  },
  {
   "cell_type": "code",
   "execution_count": 6,
   "metadata": {
    "colab": {
     "base_uri": "https://localhost:8080/"
    },
    "id": "mq6zj3gDqxBy",
    "outputId": "cf075e60-53ee-4d31-974f-43449470bfdc"
   },
   "outputs": [
    {
     "name": "stdout",
     "output_type": "stream",
     "text": [
      "      filename\n",
      "0  Image_1.jpg\n",
      "1  Image_2.jpg\n",
      "2  Image_3.jpg\n",
      "3  Image_4.jpg\n",
      "4  Image_5.jpg\n"
     ]
    }
   ],
   "source": [
    "# View the first few rows of the test dataframe\n",
    "print(test_labels_df.head())"
   ]
  },
  {
   "cell_type": "code",
   "execution_count": 7,
   "metadata": {
    "colab": {
     "base_uri": "https://localhost:8080/"
    },
    "id": "M6BMLaBxq4Nu",
    "outputId": "a67a9d51-f059-4c0d-e599-c7d867af1621"
   },
   "outputs": [
    {
     "name": "stdout",
     "output_type": "stream",
     "text": [
      "             filename    label\n",
      "count            8820     8820\n",
      "unique           8820       15\n",
      "top     Image_653.jpg  dancing\n",
      "freq                1      588\n"
     ]
    }
   ],
   "source": [
    "print(train_df.describe())"
   ]
  },
  {
   "cell_type": "code",
   "execution_count": 8,
   "metadata": {
    "colab": {
     "base_uri": "https://localhost:8080/"
    },
    "id": "TOQfBUavq8BK",
    "outputId": "d1971d39-cc98-4a04-f412-88775b5337b9"
   },
   "outputs": [
    {
     "name": "stdout",
     "output_type": "stream",
     "text": [
      "             filename               label\n",
      "count            3780                3780\n",
      "unique           3780                  15\n",
      "top     Image_964.jpg  listening_to_music\n",
      "freq                1                 252\n"
     ]
    }
   ],
   "source": [
    "print(valid_df.describe())"
   ]
  },
  {
   "cell_type": "code",
   "execution_count": 9,
   "metadata": {
    "colab": {
     "base_uri": "https://localhost:8080/"
    },
    "id": "ZtF3nme3rAEg",
    "outputId": "7c992947-150d-4684-8424-fe721efbd7d4"
   },
   "outputs": [
    {
     "name": "stdout",
     "output_type": "stream",
     "text": [
      "           filename\n",
      "count          5400\n",
      "unique         5400\n",
      "top     Image_1.jpg\n",
      "freq              1\n"
     ]
    }
   ],
   "source": [
    "print(test_labels_df.describe())"
   ]
  },
  {
   "cell_type": "code",
   "execution_count": 19,
   "metadata": {
    "colab": {
     "base_uri": "https://localhost:8080/"
    },
    "id": "mauDO44C4NMB",
    "outputId": "2b0f851c-3e65-43ae-8e61-d3af731719f8"
   },
   "outputs": [
    {
     "name": "stdout",
     "output_type": "stream",
     "text": [
      "sitting               840\n",
      "using_laptop          840\n",
      "hugging               840\n",
      "sleeping              840\n",
      "drinking              840\n",
      "clapping              840\n",
      "dancing               840\n",
      "cycling               840\n",
      "calling               840\n",
      "laughing              840\n",
      "eating                840\n",
      "fighting              840\n",
      "listening_to_music    840\n",
      "running               840\n",
      "texting               840\n",
      "Name: label, dtype: int64\n",
      "Train set: 8820 samples\n",
      "Validation set: 3780 samples\n",
      "Test set: 5400 samples\n"
     ]
    }
   ],
   "source": [
    "# Check that you have more than one instance per class\n",
    "print(train_labels_df['label'].value_counts())\n",
    "\n",
    "# Verify the distribution of the splits\n",
    "print(f\"Train set: {len(train_df)} samples\")\n",
    "print(f\"Validation set: {len(valid_df)} samples\")\n",
    "print(f\"Test set: {len(test_labels_df)} samples\")"
   ]
  },
  {
   "cell_type": "code",
   "execution_count": 23,
   "metadata": {
    "colab": {
     "base_uri": "https://localhost:8080/",
     "height": 675
    },
    "id": "JQvppJia51Kf",
    "outputId": "f1ef2cf4-7f61-4a97-ff03-e487cfe6be36"
   },
   "outputs": [
    {
     "data": {
      "image/png": "[encoded data removed]",
      "text/plain": [
       "<Figure size 1000x800 with 1 Axes>"
      ]
     },
     "metadata": {},
     "output_type": "display_data"
    }
   ],
   "source": [
    "import pandas as pd\n",
    "import matplotlib.pyplot as plt\n",
    "\n",
    "# Assuming train_labels_df is already defined and has a 'label' column\n",
    "\n",
    "# Get the counts of each label\n",
    "label_counts = train_labels_df['label'].value_counts()\n",
    "\n",
    "# Create a DataFrame from the label counts\n",
    "df = pd.DataFrame({'label': label_counts.index, 'samples': label_counts.values})\n",
    "\n",
    "# Plotting the pie chart\n",
    "plt.figure(figsize=(10, 8))\n",
    "colors = plt.cm.tab20c.colors  # Using tab20c colormap for more distinct colors if needed\n",
    "wedges, texts, autotexts = plt.pie(df['samples'], colors=colors, startangle=140, autopct='%1.2f%%')\n",
    "\n",
    "# Adding a legend\n",
    "plt.legend(wedges, df['label'], title=\"Classes\", loc=\"center left\", bbox_to_anchor=(1, 0, 0.5, 1))\n",
    "\n",
    "# Equal aspect ratio ensures that pie is drawn as a circle.\n",
    "plt.axis('equal')\n",
    "\n",
    "# Adding a title\n",
    "plt.title('Distribution of Samples per Class in Training Set')\n",
    "\n",
    "# Display the plot\n",
    "plt.show()"
   ]
  },
  {
   "cell_type": "markdown",
   "metadata": {
    "id": "swy4PuXv83O3"
   },
   "source": [
    "# **Prepare model**"
   ]
  },
  {
   "cell_type": "markdown",
   "metadata": {
    "id": "EUuiI9Bw9InA"
   },
   "source": [
    "## **CNN Model**"
   ]
  },
  {
   "cell_type": "code",
   "execution_count": null,
   "metadata": {
    "colab": {
     "base_uri": "https://localhost:8080/"
    },
    "id": "8LIGNB0MD38h",
    "outputId": "9ac52f76-4adf-4531-a27d-cad3f487eb9f"
   },
   "outputs": [
    {
     "name": "stdout",
     "output_type": "stream",
     "text": [
      "Model: \"sequential\"\n",
      "_________________________________________________________________\n",
      " Layer (type)                Output Shape              Param #   \n",
      "=================================================================\n",
      " conv2d (Conv2D)             (None, 126, 126, 32)      896       \n",
      "                                                                 \n",
      " max_pooling2d (MaxPooling2  (None, 63, 63, 32)        0         \n",
      " D)                                                              \n",
      "                                                                 \n",
      " conv2d_1 (Conv2D)           (None, 61, 61, 32)        9248      \n",
      "                                                                 \n",
      " max_pooling2d_1 (MaxPoolin  (None, 30, 30, 32)        0         \n",
      " g2D)                                                            \n",
      "                                                                 \n",
      " flatten (Flatten)           (None, 28800)             0         \n",
      "                                                                 \n",
      " dense (Dense)               (None, 128)               3686528   \n",
      "                                                                 \n",
      " dense_1 (Dense)             (None, 15)                1935      \n",
      "                                                                 \n",
      "=================================================================\n",
      "Total params: 3698607 (14.11 MB)\n",
      "Trainable params: 3698607 (14.11 MB)\n",
      "Non-trainable params: 0 (0.00 Byte)\n",
      "_________________________________________________________________\n"
     ]
    }
   ],
   "source": [
    "import tensorflow as tf\n",
    "\n",
    "# Number of unique classes in your dataset\n",
    "num_unique_classes = 15  # Assuming 15 different classes\n",
    "\n",
    "# Instantiate a Sequential model\n",
    "cnn = tf.keras.models.Sequential()\n",
    "\n",
    "# Add a Convolutional layer\n",
    "cnn.add(tf.keras.layers.Conv2D(filters=32, kernel_size=3, activation='relu', input_shape=[128, 128, 3]))\n",
    "\n",
    "# Add a Pooling layer\n",
    "cnn.add(tf.keras.layers.MaxPool2D(pool_size=2, strides=2))\n",
    "\n",
    "# Add a second Convolutional layer\n",
    "cnn.add(tf.keras.layers.Conv2D(filters=32, kernel_size=3, activation='relu'))\n",
    "\n",
    "# Add a second Pooling layer\n",
    "cnn.add(tf.keras.layers.MaxPool2D(pool_size=2, strides=2))\n",
    "\n",
    "# Add a Flattening layer\n",
    "cnn.add(tf.keras.layers.Flatten())\n",
    "\n",
    "# Add a Fully-connected layer\n",
    "cnn.add(tf.keras.layers.Dense(units=128, activation='relu'))\n",
    "\n",
    "# Add an Output layer\n",
    "cnn.add(tf.keras.layers.Dense(units=num_unique_classes, activation='softmax'))\n",
    "\n",
    "# Print the model summary\n",
    "cnn.summary()"
   ]
  },
  {
   "cell_type": "code",
   "execution_count": null,
   "metadata": {
    "id": "GLoh2RM-Eebx"
   },
   "outputs": [],
   "source": [
    "# Compile the model with Adam optimizer and categorical crossentropy loss\n",
    "cnn.compile(optimizer='adam', loss='categorical_crossentropy', metrics=['accuracy'])"
   ]
  },
  {
   "cell_type": "code",
   "execution_count": null,
   "metadata": {
    "colab": {
     "base_uri": "https://localhost:8080/"
    },
    "id": "BD4tRPwUEntK",
    "outputId": "99458544-87e9-40ce-f4d1-d4cc0d50fed5"
   },
   "outputs": [
    {
     "name": "stdout",
     "output_type": "stream",
     "text": [
      "Epoch 1/25\n",
      "275/275 [==============================] - 2905s 11s/step - loss: 2.6855 - accuracy: 0.1041 - val_loss: 2.5984 - val_accuracy: 0.1433\n",
      "Epoch 2/25\n",
      "275/275 [==============================] - 256s 929ms/step - loss: 2.5351 - accuracy: 0.1705 - val_loss: 2.4167 - val_accuracy: 0.2209\n",
      "Epoch 3/25\n",
      "275/275 [==============================] - 268s 975ms/step - loss: 2.4289 - accuracy: 0.2121 - val_loss: 2.3998 - val_accuracy: 0.2558\n",
      "Epoch 4/25\n",
      "275/275 [==============================] - 270s 979ms/step - loss: 2.3373 - accuracy: 0.2417 - val_loss: 2.2950 - val_accuracy: 0.2609\n",
      "Epoch 5/25\n",
      "275/275 [==============================] - 269s 980ms/step - loss: 2.2649 - accuracy: 0.2656 - val_loss: 2.3326 - val_accuracy: 0.2664\n",
      "Epoch 6/25\n",
      "275/275 [==============================] - 265s 965ms/step - loss: 2.2362 - accuracy: 0.2705 - val_loss: 2.2462 - val_accuracy: 0.2842\n",
      "Epoch 7/25\n",
      "275/275 [==============================] - 269s 975ms/step - loss: 2.2063 - accuracy: 0.2893 - val_loss: 2.7076 - val_accuracy: 0.2100\n",
      "Epoch 8/25\n",
      "275/275 [==============================] - 260s 946ms/step - loss: 2.1738 - accuracy: 0.2964 - val_loss: 2.1336 - val_accuracy: 0.3220\n",
      "Epoch 9/25\n",
      "275/275 [==============================] - 257s 930ms/step - loss: 2.1357 - accuracy: 0.3109 - val_loss: 2.1335 - val_accuracy: 0.3173\n",
      "Epoch 10/25\n",
      "275/275 [==============================] - 275s 1s/step - loss: 2.1104 - accuracy: 0.3111 - val_loss: 2.1809 - val_accuracy: 0.3027\n",
      "Epoch 11/25\n",
      "275/275 [==============================] - 267s 969ms/step - loss: 2.0951 - accuracy: 0.3177 - val_loss: 2.2610 - val_accuracy: 0.2982\n",
      "Epoch 12/25\n",
      "275/275 [==============================] - 280s 1s/step - loss: 2.0663 - accuracy: 0.3272 - val_loss: 2.0545 - val_accuracy: 0.3443\n",
      "Epoch 13/25\n",
      "275/275 [==============================] - 255s 929ms/step - loss: 2.0363 - accuracy: 0.3360 - val_loss: 2.1401 - val_accuracy: 0.3199\n",
      "Epoch 14/25\n",
      "275/275 [==============================] - 251s 914ms/step - loss: 2.0382 - accuracy: 0.3364 - val_loss: 2.0970 - val_accuracy: 0.3350\n",
      "Epoch 15/25\n",
      "275/275 [==============================] - 254s 922ms/step - loss: 2.0225 - accuracy: 0.3438 - val_loss: 2.0553 - val_accuracy: 0.3400\n",
      "Epoch 16/25\n",
      "275/275 [==============================] - 267s 971ms/step - loss: 2.0033 - accuracy: 0.3489 - val_loss: 2.0619 - val_accuracy: 0.3496\n",
      "Epoch 17/25\n",
      "275/275 [==============================] - 267s 973ms/step - loss: 1.9835 - accuracy: 0.3529 - val_loss: 2.1448 - val_accuracy: 0.3345\n",
      "Epoch 18/25\n",
      "275/275 [==============================] - 268s 973ms/step - loss: 1.9679 - accuracy: 0.3620 - val_loss: 2.1278 - val_accuracy: 0.3271\n",
      "Epoch 19/25\n",
      "275/275 [==============================] - 266s 968ms/step - loss: 1.9551 - accuracy: 0.3584 - val_loss: 1.9809 - val_accuracy: 0.3596\n",
      "Epoch 20/25\n",
      "275/275 [==============================] - 269s 979ms/step - loss: 1.9373 - accuracy: 0.3694 - val_loss: 2.0267 - val_accuracy: 0.3541\n",
      "Epoch 21/25\n",
      "275/275 [==============================] - 268s 972ms/step - loss: 1.9107 - accuracy: 0.3731 - val_loss: 2.0398 - val_accuracy: 0.3610\n",
      "Epoch 22/25\n",
      "275/275 [==============================] - 256s 930ms/step - loss: 1.9009 - accuracy: 0.3787 - val_loss: 1.9433 - val_accuracy: 0.3734\n",
      "Epoch 23/25\n",
      "275/275 [==============================] - 253s 919ms/step - loss: 1.8966 - accuracy: 0.3766 - val_loss: 2.0814 - val_accuracy: 0.3369\n",
      "Epoch 24/25\n",
      "275/275 [==============================] - 266s 967ms/step - loss: 1.8904 - accuracy: 0.3855 - val_loss: 2.0040 - val_accuracy: 0.3657\n",
      "Epoch 25/25\n",
      "275/275 [==============================] - 265s 963ms/step - loss: 1.8718 - accuracy: 0.3860 - val_loss: 2.0017 - val_accuracy: 0.3644\n"
     ]
    }
   ],
   "source": [
    "history = cnn.fit(\n",
    "    train_generator,\n",
    "    steps_per_epoch=train_generator.samples // train_generator.batch_size,\n",
    "    validation_data=validation_generator,\n",
    "    validation_steps=validation_generator.samples // validation_generator.batch_size,\n",
    "    epochs=25  # Adjust the number of epochs as needed\n",
    ")"
   ]
  },
  {
   "cell_type": "markdown",
   "metadata": {
    "id": "DHyoHde79a-H"
   },
   "source": [
    "As seen above after 25 epochs the accuracy is low so we employ early stopping"
   ]
  },
  {
   "cell_type": "code",
   "execution_count": null,
   "metadata": {
    "colab": {
     "base_uri": "https://localhost:8080/"
    },
    "id": "2-5J69YdsGPt",
    "outputId": "d244eecd-93d3-4f56-8e03-d3f0867f5a71"
   },
   "outputs": [
    {
     "name": "stdout",
     "output_type": "stream",
     "text": [
      "Epoch 1/25\n",
      "275/275 [==============================] - 627s 2s/step - loss: 2.6237 - accuracy: 0.1140 - val_loss: 2.5971 - val_accuracy: 0.1520\n",
      "Epoch 2/25\n",
      "275/275 [==============================] - 618s 2s/step - loss: 2.4469 - accuracy: 0.1952 - val_loss: 2.4204 - val_accuracy: 0.2195\n",
      "Epoch 3/25\n",
      "275/275 [==============================] - 603s 2s/step - loss: 2.3750 - accuracy: 0.2214 - val_loss: 2.4070 - val_accuracy: 0.2203\n",
      "Epoch 4/25\n",
      "275/275 [==============================] - 622s 2s/step - loss: 2.3340 - accuracy: 0.2311 - val_loss: 2.3699 - val_accuracy: 0.2272\n",
      "Epoch 5/25\n",
      "275/275 [==============================] - 621s 2s/step - loss: 2.2933 - accuracy: 0.2473 - val_loss: 2.2555 - val_accuracy: 0.2773\n",
      "Epoch 6/25\n",
      "275/275 [==============================] - 600s 2s/step - loss: 2.2593 - accuracy: 0.2634 - val_loss: 2.5048 - val_accuracy: 0.2225\n",
      "Epoch 7/25\n",
      "275/275 [==============================] - 619s 2s/step - loss: 2.2339 - accuracy: 0.2711 - val_loss: 2.2973 - val_accuracy: 0.2704\n",
      "Epoch 8/25\n",
      "275/275 [==============================] - 622s 2s/step - loss: 2.2091 - accuracy: 0.2765 - val_loss: 2.3926 - val_accuracy: 0.2643\n",
      "Epoch 9/25\n",
      "275/275 [==============================] - 620s 2s/step - loss: 2.1915 - accuracy: 0.2891 - val_loss: 2.2721 - val_accuracy: 0.2831\n",
      "Epoch 10/25\n",
      "275/275 [==============================] - 601s 2s/step - loss: 2.1662 - accuracy: 0.3027 - val_loss: 2.2574 - val_accuracy: 0.2855\n"
     ]
    }
   ],
   "source": [
    "import tensorflow as tf\n",
    "from tensorflow.keras.callbacks import EarlyStopping\n",
    "\n",
    "# Increase the model complexity\n",
    "cnn = tf.keras.models.Sequential([\n",
    "    tf.keras.layers.Conv2D(filters=64, kernel_size=3, activation='relu', input_shape=[128, 128, 3]),\n",
    "    tf.keras.layers.MaxPool2D(pool_size=2, strides=2),\n",
    "    tf.keras.layers.Conv2D(filters=64, kernel_size=3, activation='relu'),\n",
    "    tf.keras.layers.MaxPool2D(pool_size=2, strides=2),\n",
    "    # Additional layers\n",
    "    tf.keras.layers.Conv2D(filters=128, kernel_size=3, activation='relu'),\n",
    "    tf.keras.layers.MaxPool2D(pool_size=2, strides=2),\n",
    "    tf.keras.layers.Flatten(),\n",
    "    tf.keras.layers.Dense(units=256, activation='relu'),\n",
    "    tf.keras.layers.Dense(units=num_unique_classes, activation='softmax')\n",
    "])\n",
    "\n",
    "# Compile the model with a different optimizer and/or learning rate\n",
    "cnn.compile(optimizer=tf.keras.optimizers.Adam(learning_rate=0.0001),\n",
    "            loss='categorical_crossentropy',\n",
    "            metrics=['accuracy'])\n",
    "\n",
    "# Early stopping callback\n",
    "early_stopping = EarlyStopping(monitor='val_loss', patience=5)\n",
    "\n",
    "# Fit the model with the new settings\n",
    "history = cnn.fit(\n",
    "    train_generator,\n",
    "    steps_per_epoch=train_generator.samples // train_generator.batch_size,\n",
    "    validation_data=validation_generator,\n",
    "    validation_steps=validation_generator.samples // validation_generator.batch_size,\n",
    "    epochs=25,  # Adjust the number of epochs as needed\n",
    "    callbacks=[early_stopping]\n",
    ")"
   ]
  },
  {
   "cell_type": "markdown",
   "metadata": {
    "id": "Q7_G-_0F9yz7"
   },
   "source": [
    "## **After using early stopping the accuracy reduced so we do transfer learning with VGG MODEL**"
   ]
  }
 ],
 "metadata": {
  "accelerator": "GPU",
  "colab": {
   "gpuType": "T4",
   "provenance": []
  },
  "kernelspec": {
   "display_name": "Python 3 (ipykernel)",
   "language": "python",
   "name": "python3"
  },
  "language_info": {
   "codemirror_mode": {
    "name": "ipython",
    "version": 3
   },
   "file_extension": ".py",
   "mimetype": "text/x-python",
   "name": "python",
   "nbconvert_exporter": "python",
   "pygments_lexer": "ipython3",
   "version": "3.9.13"
  }
 },
 "nbformat": 4,
 "nbformat_minor": 1
}
